{
 "cells": [
  {
   "cell_type": "markdown",
   "metadata": {},
   "source": [
    "# Familiarize Yourself with the Dataset\n",
    "You will use the “Musical Instruments” dataset from the Amazon Review\n",
    "data 2023 (5-core subset). The complete data contains ∼ 213 000 entries, which\n",
    "is computationally expensive to process. Therefore, for this project, you will\n",
    "use a smaller version of the dataset that has been provided. The project dataset\n",
    "contains 14 000 item ratings from nearly 900 users on ∼ 500 items.\n",
    "We will use the pre-computed training and test splits train.tsv and test.tsv\n",
    "with 80% and 20% of the data respectively. These files can be found in Absalon.\n",
    "The files are in TSV format (fields in each row are tab-separated), you thus need\n",
    "read-in tools. You can use pandas for data wrangling. You are free to utilize\n",
    "other tools if you wish."
   ]
  },
  {
   "cell_type": "markdown",
   "metadata": {},
   "source": [
    "Nice read on \"How to set up Anaconda and Jupyter Notebook the right way\": https://towardsdatascience.com/how-to-set-up-anaconda-and-jupyter-notebook-the-right-way-de3b7623ea4a"
   ]
  },
  {
   "cell_type": "code",
   "execution_count": 2,
   "metadata": {},
   "outputs": [],
   "source": [
    "import json\n",
    "import pandas as pd\n",
    "import gzip"
   ]
  },
  {
   "cell_type": "markdown",
   "metadata": {},
   "source": [
    "## STEP 1\n",
    "Download and import the dataset splits."
   ]
  },
  {
   "cell_type": "code",
   "execution_count": 3,
   "metadata": {},
   "outputs": [
    {
     "data": {
      "text/plain": [
       "11000"
      ]
     },
     "execution_count": 3,
     "metadata": {},
     "output_type": "execute_result"
    }
   ],
   "source": [
    "# import the dataset splits\n",
    "train_data = pd.read_csv('train.tsv', sep='\\t')\n",
    "test_data = pd.read_csv('test.tsv', sep='\\t')\n",
    "len(train_data)"
   ]
  },
  {
   "cell_type": "code",
   "execution_count": 4,
   "metadata": {},
   "outputs": [
    {
     "data": {
      "text/plain": [
       "3000"
      ]
     },
     "execution_count": 4,
     "metadata": {},
     "output_type": "execute_result"
    }
   ],
   "source": [
    "len(test_data)"
   ]
  },
  {
   "cell_type": "markdown",
   "metadata": {},
   "source": [
    "## Step 2\n",
    "\n",
    "Clean both splits from missing information (e.g., missing user ID or item\n",
    "ID) and duplicates (cases where the same user has rated the same item\n",
    "multiple times) if any.\n"
   ]
  },
  {
   "cell_type": "code",
   "execution_count": 22,
   "metadata": {},
   "outputs": [
    {
     "name": "stdout",
     "output_type": "stream",
     "text": [
      "Clean train data:\n",
      "NaN values removed: 0\n",
      "Duplicates removed: 1087\n",
      "Clean test data:\n",
      "NaN values removed: 0\n",
      "Duplicates removed: 1178\n",
      "Length of cleaned train data: 9913\n",
      "Length of cleaned test data: 1822\n"
     ]
    }
   ],
   "source": [
    "# data cleaning by dropping rows with NaN in the 'rating' column and duplicates\n",
    "# also check the number of data being cleaned in each step\n",
    "def data_cleaning(df):\n",
    "    initial_length = len(df)\n",
    "\n",
    "    df = df.sort_values(by=['user_id', 'item_id', 'timestamp'])\n",
    "    # remove NAN ratings\n",
    "    df_no_nan = df.dropna(subset=['rating'])\n",
    "    nan_removed_count = initial_length - len(df_no_nan)\n",
    "    # remove duplicates\n",
    "    df_cleaned = df_no_nan.drop_duplicates(subset=['user_id', 'item_id'], keep='last')\n",
    "    duplicates_removed_count = len(df_no_nan) - len(df_cleaned)\n",
    "    \n",
    "    print(f\"NaN values removed: {nan_removed_count}\")\n",
    "    print(f\"Duplicates removed: {duplicates_removed_count}\")\n",
    "    \n",
    "    return df_cleaned\n",
    "\n",
    "print(\"Clean train data:\")\n",
    "train_data = data_cleaning(train_data)\n",
    "print(\"Clean test data:\")\n",
    "test_data = data_cleaning(test_data)\n",
    "\n",
    "print(\"Length of cleaned train data:\", len(train_data))\n",
    "print(\"Length of cleaned test data:\", len(test_data))"
   ]
  },
  {
   "cell_type": "code",
   "execution_count": 23,
   "metadata": {},
   "outputs": [
    {
     "name": "stdout",
     "output_type": "stream",
     "text": [
      "Unique users in training set: 800\n",
      "Unique items in training set: 509\n",
      "Unique users in test set: 437\n",
      "Unique items in test set: 413\n",
      "Unique users in full set: 800\n",
      "Unique items in full set: 518\n",
      "Length of cleaned train data: 9913\n",
      "Length of cleaned test data: 1822\n",
      "Length of cleaned full data: 11735\n"
     ]
    }
   ],
   "source": [
    "# Calculate unique counts for train, test, and full set\n",
    "def calculate_unique_counts(df, name):\n",
    "    unique_users = df['user_id'].nunique()\n",
    "    unique_items = df['item_id'].nunique()\n",
    "    print(f\"Unique users in {name}: {unique_users}\")\n",
    "    print(f\"Unique items in {name}: {unique_items}\")\n",
    "    return unique_users, unique_items\n",
    "\n",
    "train_unique_users, train_unique_items = calculate_unique_counts(train_data, \"training set\")\n",
    "test_unique_users, test_unique_items = calculate_unique_counts(test_data, \"test set\")\n",
    "\n",
    "# Combine train and test data for full set\n",
    "full_data = pd.concat([train_data, test_data])\n",
    "full_unique_users, full_unique_items = calculate_unique_counts(full_data, \"full set\")\n",
    "\n",
    "# Print lengths of cleaned data\n",
    "print(\"Length of cleaned train data:\", len(train_data))\n",
    "print(\"Length of cleaned test data:\", len(test_data))\n",
    "print(\"Length of cleaned full data:\", len(full_data))"
   ]
  },
  {
   "cell_type": "markdown",
   "metadata": {},
   "source": [
    "## Step 3\n",
    "\n",
    "Double check that all users from the test split also appear in the training\n",
    "set, and remove those that do not appear in training."
   ]
  },
  {
   "cell_type": "code",
   "execution_count": 24,
   "metadata": {},
   "outputs": [
    {
     "name": "stdout",
     "output_type": "stream",
     "text": [
      "Observations in test set: 1822\n"
     ]
    }
   ],
   "source": [
    "def further_clean(train, test):\n",
    "    test = test[test['user_id'].isin(train['user_id'])]\n",
    "\n",
    "    return test\n",
    "\n",
    "test_data = further_clean(train_data, test_data)\n",
    "print(\"Observations in test set:\", len(test_data))"
   ]
  },
  {
   "cell_type": "markdown",
   "metadata": {},
   "source": [
    "## Step 4\n",
    "\n",
    "Compute user and item statistics (such as distribution of ratings per\n",
    "user/item) for the training set train.tsv and write a discussion; does the\n",
    "dataset have important properties that should be taken into account or\n",
    "that may mislead the evaluation?\n"
   ]
  },
  {
   "cell_type": "code",
   "execution_count": 18,
   "metadata": {},
   "outputs": [
    {
     "data": {
      "image/png": "[encoded data removed]",
      "text/plain": [
       "<Figure size 640x480 with 1 Axes>"
      ]
     },
     "metadata": {},
     "output_type": "display_data"
    },
    {
     "data": {
      "image/png": "[encoded data removed]",
      "text/plain": [
       "<Figure size 640x480 with 1 Axes>"
      ]
     },
     "metadata": {},
     "output_type": "display_data"
    }
   ],
   "source": [
    "import matplotlib.pyplot as plt \n",
    "# data distribution from training set\n",
    "# item_rating frequency\n",
    "df_train = train_data\n",
    "num_rating = df_train.groupby('item_id').size().reset_index(name = 'num_rating')\n",
    "num_rating.sort_values(by = ['num_rating'], ascending=False, inplace=True)\n",
    "\n",
    "plt.bar(range(len(num_rating)), num_rating['num_rating'])\n",
    "plt.xlabel('Item ID')\n",
    "plt.ylabel('Frequency')\n",
    "plt.title('Ratings per Item Ordered by Frequency')\n",
    "plt.show()\n",
    "\n",
    "# user rating frequency\n",
    "df_train = train_data\n",
    "num_rating = df_train.groupby('user_id').size().reset_index(name = 'num_rating')\n",
    "num_rating.sort_values(by = ['num_rating'], ascending=False, inplace=True)\n",
    "\n",
    "plt.bar(range(len(num_rating)), num_rating['num_rating'], alpha = 0.6,color = 'red')\n",
    "plt.xlabel('User ID')\n",
    "plt.ylabel('Frequency')\n",
    "plt.title('Ratings per User Ordered by Frequency')\n",
    "plt.show()"
   ]
  },
  {
   "cell_type": "markdown",
   "metadata": {},
   "source": [
    "## Step 5\n",
    "Compute the frequency of items that were rated highly, i.e., rating ≥ 3.\n",
    "Count how many times each musical instrument was highly rated. We will\n",
    "use this as the TopPop recommender system in Week 7. Report in a table\n",
    "the top 5 most highly rated items with the number of rates and average\n",
    "rate.\n"
   ]
  },
  {
   "cell_type": "code",
   "execution_count": 19,
   "metadata": {},
   "outputs": [
    {
     "name": "stdout",
     "output_type": "stream",
     "text": [
      "        item_id  num_ratings  avg_rating\n",
      "286  B07N2HQ1T7           28         5.0\n",
      "214  B0742RB7JK           14         5.0\n",
      "254  B07C9YCY5J           14         5.0\n",
      "31   B000U0DU34           13         5.0\n",
      "473  B0BT2W3TTM           13         5.0\n"
     ]
    }
   ],
   "source": [
    "\n",
    "high_ratings = train_data[train_data['rating'] >= 3]\n",
    "\n",
    "stats = high_ratings.groupby('item_id').agg(num_ratings=('rating', 'count'), avg_rating=('rating', 'mean')).reset_index()\n",
    "\n",
    "top_items = stats.sort_values(by=['avg_rating', 'num_ratings'], ascending=False).head(5)\n",
    "print(top_items)\n"
   ]
  },
  {
   "cell_type": "code",
   "execution_count": 9,
   "metadata": {},
   "outputs": [],
   "source": [
    "train_data.to_pickle(\"train_dataframe.pkl\")\n",
    "test_data.to_pickle(\"test_dataframe.pkl\")"
   ]
  }
 ],
 "metadata": {
  "kernelspec": {
   "display_name": "web",
   "language": "python",
   "name": "python3"
  },
  "language_info": {
   "codemirror_mode": {
    "name": "ipython",
    "version": 3
   },
   "file_extension": ".py",
   "mimetype": "text/x-python",
   "name": "python",
   "nbconvert_exporter": "python",
   "pygments_lexer": "ipython3",
   "version": "3.10.16"
  }
 },
 "nbformat": 4,
 "nbformat_minor": 2
}
