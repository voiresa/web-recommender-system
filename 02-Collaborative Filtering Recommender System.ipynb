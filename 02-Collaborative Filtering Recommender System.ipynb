{
 "cells": [
  {
   "cell_type": "markdown",
   "id": "3d23701c",
   "metadata": {},
   "source": [
    "# Collaborative Filtering Recommender System\n"
   ]
  },
  {
   "cell_type": "markdown",
   "id": "dcface96",
   "metadata": {},
   "source": [
    "For this part, you can use the python library Scikit-Surprise. Please find the\n",
    "documentation here: https://surprise.readthedocs.io/en/stable/. However,\n",
    "you are free to use any libraries of your choice.\n"
   ]
  },
  {
   "cell_type": "code",
   "execution_count": 18,
   "id": "160a7e5f",
   "metadata": {},
   "outputs": [],
   "source": [
    "# Load cleaned data splits\n",
    "import pandas as pd \n",
    "train_data = pd.read_pickle(\"train_dataframe.pkl\") \n",
    "test_data = pd.read_pickle(\"test_dataframe.pkl\")"
   ]
  },
  {
   "cell_type": "markdown",
   "id": "90a97e87",
   "metadata": {},
   "source": [
    "## Step 1\n",
    "\n",
    "Based on the frequency of the most rated items computed in Week 6,\n",
    "implement the TopPop recommender system, which always recommends\n",
    "the same top-k items sorted decreasingly by the number of “high” ratings\n",
    "(e.g., ≥ 3) in the training split, train.tsv.\n"
   ]
  },
  {
   "cell_type": "code",
   "execution_count": 19,
   "id": "4971a978",
   "metadata": {},
   "outputs": [
    {
     "name": "stdout",
     "output_type": "stream",
     "text": [
      "        item_id  num_ratings  avg_rating\n",
      "286  B07N2HQ1T7           28         5.0\n",
      "214  B0742RB7JK           14         5.0\n",
      "254  B07C9YCY5J           14         5.0\n",
      "31   B000U0DU34           13         5.0\n",
      "473  B0BT2W3TTM           13         5.0\n",
      "298  B07S19XSPV           12         5.0\n",
      "123  B00VOQQDHI           11         5.0\n",
      "200  B06XH7487S           11         5.0\n",
      "279  B07L6RCDP7           11         5.0\n",
      "312  B07YK57N2M           10         5.0\n"
     ]
    }
   ],
   "source": [
    "# get top 10 recommendations from TopPop recommender system for next week\n",
    "def TopPop(train_data, items_rating_count, k):\n",
    "    high_ratings = train_data[train_data['rating'] >= 3]\n",
    "    stats = high_ratings.groupby('item_id').agg(num_ratings=('rating', 'count'), avg_rating=('rating', 'mean')).reset_index()\n",
    "    items_rating_count = stats.sort_values(by=['avg_rating', 'num_ratings'], ascending=False)\n",
    "    return items_rating_count.head(k)\n",
    "\n",
    "\n",
    "top_k = 10 \n",
    "items_rating_count = train_data['item_id'].value_counts()\n",
    "top_items = TopPop(train_data, items_rating_count, top_k)\n",
    "\n",
    "print(top_items)\n",
    "# save it for next week comparison with knn ,svd\n",
    "top_items.to_csv('top_items.csv', index=False)\n"
   ]
  },
  {
   "cell_type": "markdown",
   "id": "44530ef5",
   "metadata": {},
   "source": [
    "## Step 2\n",
    "Choose at least one neighborhood-based model and one latent factor model\n",
    "that uses the observed user-item ratings in the training set to predict the\n",
    "unobserved ratings. Report your choice of models.\n"
   ]
  },
  {
   "cell_type": "markdown",
   "id": "2be2bff0",
   "metadata": {},
   "source": [
    "### Neighborhood-based model(KNN, K=5)"
   ]
  },
  {
   "cell_type": "code",
   "execution_count": 20,
   "id": "8e15dbe0",
   "metadata": {},
   "outputs": [],
   "source": [
    "import random\n",
    "import pandas as pd\n",
    "import numpy as np\n",
    "from surprise import Reader\n",
    "from surprise import Dataset\n",
    "from surprise import KNNWithMeans\n",
    "from surprise.model_selection import KFold\n",
    "from sklearn.metrics import mean_squared_error as mse\n",
    "from surprise import accuracy"
   ]
  },
  {
   "cell_type": "code",
   "execution_count": 21,
   "id": "2c52a277",
   "metadata": {},
   "outputs": [],
   "source": [
    "# Convert train data format\n",
    "reader = Reader(rating_scale=(1, 5))\n",
    "training_matrix = Dataset.load_from_df(train_data[['user_id', 'item_id', 'rating']], reader)"
   ]
  },
  {
   "cell_type": "code",
   "execution_count": 22,
   "id": "b201c17c",
   "metadata": {},
   "outputs": [
    {
     "name": "stdout",
     "output_type": "stream",
     "text": [
      "Number of predictions:  217724\n",
      "Average of predictions:  4.441\n"
     ]
    }
   ],
   "source": [
    "# test the implemented KNN models with some randomly selected parameters\n",
    "sim_options = {'name': 'cosine',\n",
    "               'user_based': True\n",
    "               }\n",
    "algo_knn = KNNWithMeans(k= 5, \n",
    "                    random_state=0,\n",
    "                    sim_options= sim_options,\n",
    "                    verbose=False)\n",
    "\n",
    "trainset = training_matrix.build_full_trainset()# includes the entire dataset for training\n",
    "algo_knn.fit(trainset)\n",
    "\n",
    "unobserved_ratings = trainset.build_anti_testset()\n",
    "pred_KNN = algo_knn.test(unobserved_ratings)\n",
    "test_users = set(test_data['user_id'].unique())\n",
    "unobserved_users = set(user_id for user_id, item_id, _ in unobserved_ratings)\n",
    "num_users_not_in_test = len(unobserved_users - test_users)# number of the users that are not in the test set\n",
    "\n",
    "predictions_new = [pred for pred in pred_KNN if pred.uid in test_users] \n",
    "num_predictions = len(predictions_new)\n",
    "average_prediction = round(np.mean([pred.est for pred in predictions_new]), 3)\n",
    "\n",
    "\n",
    "print(\"Number of predictions: \", num_predictions)\n",
    "print(\"Average of predictions: \", average_prediction)"
   ]
  },
  {
   "cell_type": "markdown",
   "id": "6c660ac9",
   "metadata": {},
   "source": [
    "### Latent Factor Model(SVD)"
   ]
  },
  {
   "cell_type": "code",
   "execution_count": 23,
   "id": "dcede52e",
   "metadata": {},
   "outputs": [
    {
     "name": "stdout",
     "output_type": "stream",
     "text": [
      "Number of predictions: 217724\n",
      "Average of predictions: 4.479\n"
     ]
    }
   ],
   "source": [
    "# test the implemented SVD models with some randomly selected parameters\n",
    "from surprise import SVD\n",
    "\n",
    "algo_SVD = SVD(n_factors=30, n_epochs=100)\n",
    "algo_SVD.fit(trainset)\n",
    "\n",
    "pred_SVD = algo_SVD.test(unobserved_ratings)\n",
    "predictions = [pred for pred in pred_SVD if pred.uid in test_users]\n",
    "\n",
    "average_preds = round(np.mean([pred.est for pred in predictions]), 3)\n",
    "\n",
    "print(\"Number of predictions:\", len(predictions))\n",
    "print(\"Average of predictions:\", average_preds)"
   ]
  },
  {
   "cell_type": "markdown",
   "id": "ce857d90",
   "metadata": {},
   "source": [
    "## Step 3\n",
    "Use 5-fold cross-validation on the training set to tune the hyperparameters\n",
    "of the chosen models (similarity measure and number of neighbors for the\n",
    "neighborhood-based model; number of latent factors and number of epochs\n",
    "for the latent factor model).\n"
   ]
  },
  {
   "cell_type": "markdown",
   "id": "2095da6c",
   "metadata": {},
   "source": [
    "Choose an evaluation measure that is suitable for this task and justify your\n",
    "motivation in using it. Report the optimal hyperparameters together with\n",
    "the scores of your chosen measure, averaged over the 5 folds.\n"
   ]
  },
  {
   "cell_type": "markdown",
   "id": "55a40b48",
   "metadata": {},
   "source": [
    "### KNN Model tune+ RMSE as evaluation measure"
   ]
  },
  {
   "cell_type": "code",
   "execution_count": 24,
   "id": "91a6eaa1",
   "metadata": {},
   "outputs": [
    {
     "name": "stdout",
     "output_type": "stream",
     "text": [
      "                   0         1         2         3         4  mean_rmse\n",
      "1_cosine    1.065002  1.061466  1.095047  1.080334  1.009007   1.062171\n",
      "1_pearson   0.923623  0.919883  0.916026  0.919373  0.877042   0.911189\n",
      "1_msd       1.068735  1.065228  1.021629  1.041940  1.051525   1.049812\n",
      "2_cosine    0.968527  0.963304  0.944011  0.978766  0.955238   0.961969\n",
      "2_pearson   0.879325  0.955120  0.896603  0.920848  0.889040   0.908187\n",
      "2_msd       0.979183  0.968180  0.962749  0.953998  0.980197   0.968862\n",
      "3_cosine    0.941616  0.928014  0.918780  0.939354  0.967233   0.938999\n",
      "3_pearson   0.911825  0.889045  0.929867  0.903160  0.931849   0.913149\n",
      "3_msd       0.944145  0.931048  0.943715  0.949273  0.934045   0.940445\n",
      "4_cosine    0.938677  0.920548  0.923938  0.927643  0.949022   0.931966\n",
      "4_pearson   0.885429  0.943124  0.916486  0.874496  0.923464   0.908600\n",
      "4_msd       0.961687  0.927534  0.913367  0.877817  0.954423   0.926966\n",
      "5_cosine    0.906464  0.978296  0.924445  0.887473  0.892235   0.917783\n",
      "5_pearson   0.898507  0.914205  0.903371  0.916854  0.900936   0.906775\n",
      "5_msd       0.944637  0.941982  0.891817  0.863342  0.939570   0.916270\n",
      "6_cosine    0.897056  0.929197  0.912956  0.924897  0.920436   0.916909\n",
      "6_pearson   0.903910  0.904692  0.925098  0.909400  0.871606   0.902941\n",
      "6_msd       0.896315  0.928149  0.949069  0.920366  0.917474   0.922275\n",
      "7_cosine    0.895066  0.943046  0.906510  0.935596  0.877288   0.911501\n",
      "7_pearson   0.966427  0.861277  0.911156  0.865250  0.917824   0.904387\n",
      "7_msd       0.943718  0.911641  0.889402  0.883891  0.955591   0.916849\n",
      "8_cosine    0.893999  0.923517  0.908460  0.928501  0.893248   0.909545\n",
      "8_pearson   0.855985  0.928436  0.943732  0.916748  0.930681   0.915116\n",
      "8_msd       0.914039  0.927894  0.886226  0.906888  0.919588   0.910927\n",
      "9_cosine    0.890285  0.899242  0.906525  0.937853  0.900337   0.906848\n",
      "9_pearson   0.884574  0.933387  0.890715  0.921289  0.930771   0.912147\n",
      "9_msd       0.870445  0.922591  0.883658  0.942506  0.917875   0.907415\n",
      "10_cosine   0.895829  0.883169  0.932572  0.942028  0.881451   0.907010\n",
      "10_pearson  0.892131  0.925733  0.931397  0.870338  0.913377   0.906595\n",
      "10_msd      0.902602  0.923851  0.908433  0.902231  0.898054   0.907034\n",
      "\n",
      "The best number of neighbors is: 6 with similarity measure: pearson \n"
     ]
    }
   ],
   "source": [
    "# the random seed\n",
    "my_seed = 0\n",
    "random.seed(my_seed)\n",
    "np.random.seed(my_seed)\n",
    "\n",
    "# Define a cross-validation iterator\n",
    "kf = KFold(n_splits=5)  #5 fold\n",
    "\n",
    "rmse_result = dict()\n",
    "\n",
    "# Parameter options\n",
    "list_neighbour =  range(1, 11)\n",
    "similarity_measures = [\"cosine\", \"pearson\", \"msd\"]\n",
    "\n",
    "# test parameter sets by turns\n",
    "for neighbour in list_neighbour:\n",
    "    rmse_result[neighbour] = {}\n",
    "\n",
    "    for sim_measure in similarity_measures:\n",
    "        rmse_result[neighbour][sim_measure] = {}\n",
    "        \n",
    "        fold = 0\n",
    "        for trainset, testset in kf.split(training_matrix):\n",
    "            algo = KNNWithMeans(k=neighbour,\n",
    "                                sim_options={\"name\": sim_measure, \"user_based\": True},\n",
    "                                verbose=False)\n",
    "\n",
    "            algo.fit(trainset)\n",
    "            predictions_KNN = algo.test(testset)\n",
    "\n",
    "            rmse = accuracy.rmse(predictions_KNN, verbose=False)\n",
    "            rmse_result[neighbour][sim_measure][fold] = rmse\n",
    "\n",
    "            fold += 1\n",
    "\n",
    "\n",
    "# show and find the optimal set of parameters by selecting the lowest mean RMSE\n",
    "rmse_df = pd.DataFrame.from_dict(\n",
    "    {f\"{n}_{m}\": v for n, sim_res in rmse_result.items() for m, v in sim_res.items()},\n",
    "    orient='index')\n",
    "\n",
    "rmse_df['mean_rmse'] = rmse_df.mean(axis=1)\n",
    "\n",
    "print(rmse_df[:30])\n",
    "\n",
    "best_params = rmse_df['mean_rmse'].idxmin()\n",
    "best_k, best_sim = best_params.split('_')\n",
    "print()\n",
    "print(f'The best number of neighbors is: {best_k} with similarity measure: {best_sim} ')\n"
   ]
  },
  {
   "cell_type": "markdown",
   "id": "59d7bc85",
   "metadata": {},
   "source": [
    "### SVD Model tune + RMSE as evaluation measure"
   ]
  },
  {
   "cell_type": "code",
   "execution_count": 25,
   "id": "ed7194d1",
   "metadata": {},
   "outputs": [
    {
     "name": "stdout",
     "output_type": "stream",
     "text": [
      "               0         1         2         3         4  mean_rmse\n",
      "5_10    0.878515  0.850194  0.863530  0.822427  0.830085   0.848950\n",
      "5_20    0.842092  0.846689  0.879939  0.785697  0.857102   0.842304\n",
      "5_30    0.844363  0.866111  0.813899  0.869472  0.824034   0.843576\n",
      "5_50    0.836984  0.860521  0.827236  0.896429  0.858753   0.855985\n",
      "5_100   0.894512  0.887232  0.914474  0.835995  0.874504   0.881344\n",
      "10_10   0.889657  0.834599  0.844190  0.863775  0.811347   0.848714\n",
      "10_20   0.815711  0.825405  0.845125  0.869117  0.871999   0.845471\n",
      "10_30   0.838348  0.826131  0.846737  0.848327  0.879816   0.847872\n",
      "10_50   0.880804  0.848567  0.888898  0.851764  0.809302   0.855867\n",
      "10_100  0.864501  0.934130  0.856033  0.874372  0.888957   0.883599\n",
      "20_10   0.813738  0.908554  0.793544  0.862888  0.859245   0.847594\n",
      "20_20   0.846977  0.832777  0.808091  0.862994  0.871437   0.844455\n",
      "20_30   0.883228  0.865015  0.822541  0.794975  0.855066   0.844165\n",
      "20_50   0.836222  0.833646  0.863734  0.868888  0.861922   0.852882\n",
      "20_100  0.878502  0.888372  0.878535  0.867572  0.881172   0.878831\n",
      "30_10   0.806750  0.847854  0.851700  0.888448  0.845906   0.848131\n",
      "30_20   0.840828  0.858443  0.834300  0.824985  0.852933   0.842298\n",
      "30_30   0.868922  0.838236  0.832858  0.835698  0.864030   0.847949\n",
      "30_50   0.879132  0.843297  0.835221  0.848926  0.864017   0.854118\n",
      "30_100  0.849264  0.889525  0.891591  0.899157  0.877574   0.881422\n",
      "50_10   0.853852  0.862706  0.876823  0.831103  0.825316   0.849960\n",
      "50_20   0.817615  0.857754  0.857788  0.816982  0.870150   0.844058\n",
      "50_30   0.839373  0.826968  0.824778  0.882440  0.866698   0.848051\n",
      "50_50   0.831366  0.841641  0.849808  0.892563  0.878364   0.858749\n",
      "50_100  0.868678  0.865510  0.892215  0.898615  0.853849   0.875773\n",
      "\n",
      "The best number of latent factors is: 30 with number of epoch: 20 \n"
     ]
    }
   ],
   "source": [
    "kf = KFold(n_splits=5)  #5 fold\n",
    "rmse_result = dict()\n",
    "\n",
    "# parameter options\n",
    "list_factor = [5, 10, 20, 30, 50]\n",
    "list_epoch = [10, 20, 30, 50, 100]\n",
    "\n",
    "# test parameter sets by turns\n",
    "for factor in list_factor:\n",
    "    rmse_result[factor] = {}\n",
    "\n",
    "    for epoch in list_epoch:\n",
    "        rmse_result[factor][epoch] = {}\n",
    "        \n",
    "        fold = 0\n",
    "        for trainset, testset in kf.split(training_matrix):\n",
    "            algo = SVD(n_factors=factor, \n",
    "                       n_epochs=epoch)\n",
    "\n",
    "            algo.fit(trainset)\n",
    "            predictions_SVD = algo.test(testset)\n",
    "\n",
    "            rmse = accuracy.rmse(predictions_SVD, verbose=False)\n",
    "            rmse_result[factor][epoch][fold] = rmse\n",
    "\n",
    "            fold += 1\n",
    "\n",
    "rmse_df = pd.DataFrame.from_dict(\n",
    "    {f\"{n}_{m}\": v for n, sim_res in rmse_result.items() for m, v in sim_res.items()},\n",
    "    orient='index')\n",
    "\n",
    "rmse_df['mean_rmse'] = rmse_df.mean(axis=1)\n",
    "print(rmse_df)\n",
    "best_params = rmse_df['mean_rmse'].idxmin()\n",
    "best_f, best_e = best_params.split('_')\n",
    "print()\n",
    "print(f'The best number of latent factors is: {best_f} with number of epoch: {best_e} ')\n"
   ]
  },
  {
   "cell_type": "markdown",
   "id": "b65fd7d8",
   "metadata": {},
   "source": [
    "## Step 4\n",
    "Run the models with the optimal hyperparameters to the whole training\n",
    "set.\n"
   ]
  },
  {
   "cell_type": "markdown",
   "id": "c46e808d",
   "metadata": {},
   "source": [
    "### KNN(K = 6, Measure = pearson)"
   ]
  },
  {
   "cell_type": "code",
   "execution_count": 26,
   "id": "0af5c8d5",
   "metadata": {},
   "outputs": [
    {
     "name": "stdout",
     "output_type": "stream",
     "text": [
      "Average of predictions:  4.504\n"
     ]
    }
   ],
   "source": [
    "sim_options = {'name': best_sim,\n",
    "               'user_based': True\n",
    "               }\n",
    "algo_knn = KNNWithMeans(k= 6, \n",
    "                    random_state=0,\n",
    "                    sim_options= sim_options,\n",
    "                    verbose=False)\n",
    "\n",
    "trainset = training_matrix.build_full_trainset()# includes the entire dataset for training\n",
    "algo_knn.fit(trainset)\n",
    "pred_KNN = algo_knn.test(unobserved_ratings)\n",
    "\n",
    "average_prediction = round(np.mean([pred.est for pred in pred_KNN if pred.uid in test_users]), 3)\n",
    "\n",
    "print(\"Average of predictions: \", average_prediction)"
   ]
  },
  {
   "cell_type": "markdown",
   "id": "2223ac36",
   "metadata": {},
   "source": [
    "### SVD(latent factor=30， epoch=20)"
   ]
  },
  {
   "cell_type": "code",
   "execution_count": 27,
   "id": "8ac0e179",
   "metadata": {},
   "outputs": [
    {
     "name": "stdout",
     "output_type": "stream",
     "text": [
      "Average of predictions: 4.498\n"
     ]
    }
   ],
   "source": [
    "algo_SVD = SVD(n_factors=30, n_epochs=20)\n",
    "algo_SVD.fit(trainset)\n",
    "\n",
    "pred_SVD = algo_SVD.test(unobserved_ratings)\n",
    "\n",
    "average_preds = round(np.mean([pred.est for pred in pred_SVD if pred.uid in test_users]), 3)\n",
    "\n",
    "print(\"Average of predictions:\", average_preds)"
   ]
  },
  {
   "cell_type": "markdown",
   "id": "fdc06c9c",
   "metadata": {},
   "source": [
    "## Step 5\n",
    "Use the final models to rank the non-rated items for each user. This\n",
    "ranking will be used for the evaluation part next week.\n"
   ]
  },
  {
   "cell_type": "code",
   "execution_count": 28,
   "id": "72b501c5",
   "metadata": {},
   "outputs": [],
   "source": [
    "#general method for top-k recommendations\n",
    "from collections import defaultdict\n",
    "from surprise.prediction_algorithms.predictions import Prediction\n",
    "from typing import Dict, List\n",
    "import numpy as np\n",
    "\n",
    "def get_top_k(predictions: List[Prediction], \n",
    "              k: int) -> Dict[str, List]:\n",
    "    \"\"\"Compute the top-K recommendation for each user from a set of predictions.\n",
    "    Args:\n",
    "        predictions(list of Prediction objects): The list of predictions, as\n",
    "            returned by the test method of an algorithm.\n",
    "        k(int): The number of recommendation to output for each user.\n",
    "    Returns:\n",
    "        A dict where keys are user (raw) ids and values are lists of tuples:\n",
    "        [(raw item id, rating estimation), ...] of size n.\n",
    "    \"\"\"\n",
    "    topk = defaultdict(list)\n",
    "\n",
    "    for pred in predictions:\n",
    "        uid = pred.uid \n",
    "        iid = pred.iid \n",
    "        est = pred.est \n",
    "        topk[uid].append((iid, est))\n",
    "    \n",
    "    # Sort the predictions\n",
    "    for uid, user_ratings in topk.items():\n",
    "        user_ratings.sort(key=lambda x: x[1], reverse=True)\n",
    "        topk[uid] = user_ratings[:k]\n",
    "    return topk\n",
    "\n",
    "\n",
    "def print_top_k(user_id: str, topk: Dict[str, List]) -> None:\n",
    "    user_ratings = topk[user_id]\n",
    "    print(f\"TOP-{len(user_ratings)} predictions for user {user_id}: {[(item, round(rating,2)) for (item, rating) in user_ratings]}\")\n"
   ]
  },
  {
   "cell_type": "markdown",
   "id": "b9a3a785",
   "metadata": {},
   "source": [
    "### KNN"
   ]
  },
  {
   "cell_type": "code",
   "execution_count": 29,
   "id": "ee93e295",
   "metadata": {},
   "outputs": [
    {
     "name": "stdout",
     "output_type": "stream",
     "text": [
      "TOP-5 predictions for user AE23LDQTB7L76AP6E6WPBFVYL5DA: [('B000NGVQKO', 4.8), ('B005PGGU9O', 4.8), ('B00CPLODUU', 4.8), ('B00RX5HQS4', 4.8), ('B00VSYN25M', 4.8)]\n",
      "TOP-10 predictions for user AE23LDQTB7L76AP6E6WPBFVYL5DA: [('B000NGVQKO', 4.8), ('B005PGGU9O', 4.8), ('B00CPLODUU', 4.8), ('B00RX5HQS4', 4.8), ('B00VSYN25M', 4.8), ('B0150YC54E', 4.8), ('B015QK3GUO', 4.8), ('B06XB3FQKB', 4.8), ('B0719KM5Y8', 4.8), ('B07BHJH2Y8', 4.8)]\n",
      "TOP-20 predictions for user AE23LDQTB7L76AP6E6WPBFVYL5DA: [('B000NGVQKO', 4.8), ('B005PGGU9O', 4.8), ('B00CPLODUU', 4.8), ('B00RX5HQS4', 4.8), ('B00VSYN25M', 4.8), ('B0150YC54E', 4.8), ('B015QK3GUO', 4.8), ('B06XB3FQKB', 4.8), ('B0719KM5Y8', 4.8), ('B07BHJH2Y8', 4.8), ('B07V46KRD8', 4.8), ('B08R5GM6YB', 4.8), ('B09G5KLKX2', 4.8), ('B0B2LSX437', 4.8), ('B0B95V41NR', 4.8), ('B0BPLFP5P6', 4.8), ('B0BSCFTV2G', 4.8), ('B0BTC9YJ2W', 4.8), ('B00EM5UOE6', 4.8), ('B00JL5I61A', 4.8)]\n"
     ]
    }
   ],
   "source": [
    "top5_knn = get_top_k(pred_KNN, k=5)\n",
    "top10_knn = get_top_k(pred_KNN, k=10)\n",
    "top20_knn = get_top_k(pred_KNN, k=20)\n",
    "\n",
    "print_top_k(\"AE23LDQTB7L76AP6E6WPBFVYL5DA\", top5_knn)\n",
    "print_top_k(\"AE23LDQTB7L76AP6E6WPBFVYL5DA\", top10_knn)\n",
    "print_top_k(\"AE23LDQTB7L76AP6E6WPBFVYL5DA\", top20_knn)"
   ]
  },
  {
   "cell_type": "markdown",
   "id": "be1453e8",
   "metadata": {},
   "source": [
    "### SVD"
   ]
  },
  {
   "cell_type": "code",
   "execution_count": 30,
   "id": "a7b38b75",
   "metadata": {},
   "outputs": [
    {
     "name": "stdout",
     "output_type": "stream",
     "text": [
      "TOP-5 predictions for user AE23LDQTB7L76AP6E6WPBFVYL5DA: [('B07DK59QNR', 5), ('B07N2HQ1T7', 5), ('B00721BB44', 5), ('B0BT9R8MMV', 4.97), ('B0BQ4HSKC9', 4.97)]\n",
      "TOP-10 predictions for user AE23LDQTB7L76AP6E6WPBFVYL5DA: [('B07DK59QNR', 5), ('B07N2HQ1T7', 5), ('B00721BB44', 5), ('B0BT9R8MMV', 4.97), ('B0BQ4HSKC9', 4.97), ('B09857JRP2', 4.96), ('B00WT7KPCK', 4.96), ('B0719KM5Y8', 4.96), ('B00RVE9X06', 4.95), ('B07YK57N2M', 4.95)]\n",
      "TOP-20 predictions for user AE23LDQTB7L76AP6E6WPBFVYL5DA: [('B07DK59QNR', 5), ('B07N2HQ1T7', 5), ('B00721BB44', 5), ('B0BT9R8MMV', 4.97), ('B0BQ4HSKC9', 4.97), ('B09857JRP2', 4.96), ('B00WT7KPCK', 4.96), ('B0719KM5Y8', 4.96), ('B00RVE9X06', 4.95), ('B07YK57N2M', 4.95), ('B0C3H7SNPQ', 4.94), ('B07N5MJDBF', 4.94), ('B09KWWS7DH', 4.94), ('B00VOQQDHI', 4.94), ('B001W99HE8', 4.93), ('B0BKR2ZM9X', 4.93), ('B0B8F6LD9F', 4.92), ('B0BT2ZRCY2', 4.92), ('B0B3VSZQHL', 4.92), ('B06XH7487S', 4.92)]\n"
     ]
    }
   ],
   "source": [
    "top5_svd = get_top_k(pred_SVD, k=5)\n",
    "top10_svd = get_top_k(pred_SVD, k=10)\n",
    "top20_svd = get_top_k(pred_SVD, k=20)\n",
    "\n",
    "print_top_k(\"AE23LDQTB7L76AP6E6WPBFVYL5DA\", top5_svd)\n",
    "print_top_k(\"AE23LDQTB7L76AP6E6WPBFVYL5DA\", top10_svd)\n",
    "print_top_k(\"AE23LDQTB7L76AP6E6WPBFVYL5DA\", top20_svd)"
   ]
  }
 ],
 "metadata": {
  "kernelspec": {
   "display_name": "web",
   "language": "python",
   "name": "python3"
  },
  "language_info": {
   "codemirror_mode": {
    "name": "ipython",
    "version": 3
   },
   "file_extension": ".py",
   "mimetype": "text/x-python",
   "name": "python",
   "nbconvert_exporter": "python",
   "pygments_lexer": "ipython3",
   "version": "3.10.16"
  }
 },
 "nbformat": 4,
 "nbformat_minor": 5
}
